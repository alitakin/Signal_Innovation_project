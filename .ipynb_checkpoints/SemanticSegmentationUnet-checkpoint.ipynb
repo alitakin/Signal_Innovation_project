{
 "cells": [
  {
   "cell_type": "markdown",
   "metadata": {},
   "source": [
    "# U-Net: Convolutional Networks for Biomedical Image Segmentation\n",
    "\n",
    "https://lmb.informatik.uni-freiburg.de/people/ronneber/u-net/\n",
    "\n"
   ]
  },
  {
   "cell_type": "code",
   "execution_count": 4,
   "metadata": {},
   "outputs": [],
   "source": [
    "\n",
    "import numpy as np \n",
    "import matplotlib.pyplot as plt\n",
    "import cv2\n",
    "from keras.models import Sequential\n",
    "from keras.layers.convolutional import Convolution2D, MaxPooling2D\n",
    "from keras.layers.core import Dense, Dropout, Activation, Flatten\n",
    "from keras.utils import np_utils\n",
    "import os\n",
    "from sklearn.cross_validation import train_test_split\n",
    "from scipy.misc import imrotate\n",
    "import random \n",
    "from PIL import Image\n",
    "import glob      \n",
    "import h5py"
   ]
  },
  {
   "cell_type": "code",
   "execution_count": null,
   "metadata": {},
   "outputs": [],
   "source": []
  },
  {
   "cell_type": "code",
   "execution_count": 3,
   "metadata": {},
   "outputs": [],
   "source": [
    "def normalize_image(img):\n",
    "    img=img.astype(float)\n",
    "    img-= img.min()\n",
    "    if img.max():\n",
    "        img /= img.max()\n",
    "    else: # The image is all zeros, let's mark this by making the result gray.\n",
    "        img=0.5*np.ones_like(img)\n",
    "    return img\n"
   ]
  },
  {
   "cell_type": "code",
   "execution_count": 5,
   "metadata": {},
   "outputs": [],
   "source": [
    "def parse_tif(filePath, numFramesPerTif=70):\n",
    "    img=Image.open(filePath)\n",
    "    target=[]\n",
    "    for i in range(numFramesPerTif):\n",
    "        try:\n",
    "            img.seek(i)\n",
    "            img.tell\n",
    "            target.append(np.array(img))\n",
    "        except EOFError: #end of file error.\n",
    "            pass\n",
    "    return np.array(target)\n",
    "    "
   ]
  },
  {
   "cell_type": "code",
   "execution_count": null,
   "metadata": {},
   "outputs": [],
   "source": [
    "if __name__==\"__main__\":\n",
    "    X=[]\n",
    "    y=[]\n",
    "    labels=[]\n",
    "    i=0\n",
    "    target_dim = 128 \n",
    "    cache_file=\"\"\n",
    "    cache_file=\"cache/cache_%d.h5\" % target_dim\n",
    "    \n",
    "    \n",
    "    if os.path.isfile(cache_file):\n",
    "        with h5py.file(cache_file, \"r\") as fp:\n",
    "            X=np.array(fp[\"X\"])\n",
    "            y=np.array(fp[\"y\"])\n",
    "            labels=list(fp[\"labels\"])\n",
    "    else:\n",
    "        for dataset in [\"01\", \"02\", \"03\", \"04\", \"05\", \"06\"]:\n",
    "            datapath='/home/hayati/Desktop/Ali/SGNInnovationProject/N2DH-GOWT1/ %s' %dataset\n",
    "            #print (\"finding flies from %s\") % dataset\n",
    "            files=glob.glob(datapath + \"/*.tif\") # t01.tif\n",
    "            ann_path=datapath+ \"_GT/SEG/\" # man_seg01.tif\n",
    "            \n",
    "            for name in files:\n",
    "                basename=os.path.basename(name)\n",
    "                targetname=ann_path+ \"man_seg\" + basename[1:]\n",
    "                print\"target %s found\" %targetname\n",
    "                if not os.path.isfile(targetname):\n",
    "                    print \"Target file %s not found.\" %targetname\n",
    "                    continue\n",
    "                    \n",
    "                    \n",
    "                image=parse_tif(name)\n",
    "                image=np.mean(image, axis=0)\n",
    "                \n",
    "                print \"Image size is %s\" % str(image.shape)\n",
    "                # image= cv2.imread(name, cv2.IMREAD_GRAYSCALE)\n",
    "                image = cv2.resize(image,(128,128))\n",
    "                image = image.astype(np.float32) # Sequential model is working with 32 bit.\n",
    "                image -= np.min(image)\n",
    "                image /= np.max(image)\n",
    "                image = image[np.newaxis, :, :]\n",
    "                X.append(image)\n",
    "                labels.append(i)\n",
    "                \n",
    "                \n",
    "                \n",
    "                \n",
    "                \n",
    "            "
   ]
  }
 ],
 "metadata": {
  "kernelspec": {
   "display_name": "Python 3",
   "language": "python",
   "name": "python3"
  },
  "language_info": {
   "codemirror_mode": {
    "name": "ipython",
    "version": 3
   },
   "file_extension": ".py",
   "mimetype": "text/x-python",
   "name": "python",
   "nbconvert_exporter": "python",
   "pygments_lexer": "ipython3",
   "version": "3.6.4"
  },
  "varInspector": {
   "cols": {
    "lenName": 16,
    "lenType": 16,
    "lenVar": 40
   },
   "kernels_config": {
    "python": {
     "delete_cmd_postfix": "",
     "delete_cmd_prefix": "del ",
     "library": "var_list.py",
     "varRefreshCmd": "print(var_dic_list())"
    },
    "r": {
     "delete_cmd_postfix": ") ",
     "delete_cmd_prefix": "rm(",
     "library": "var_list.r",
     "varRefreshCmd": "cat(var_dic_list()) "
    }
   },
   "types_to_exclude": [
    "module",
    "function",
    "builtin_function_or_method",
    "instance",
    "_Feature"
   ],
   "window_display": false
  }
 },
 "nbformat": 4,
 "nbformat_minor": 2
}
